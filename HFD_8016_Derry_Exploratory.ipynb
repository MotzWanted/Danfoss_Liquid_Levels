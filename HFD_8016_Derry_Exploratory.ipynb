version https://git-lfs.github.com/spec/v1
oid sha256:bbc00afa8562bab3a435ddfdab97487860edb31f2df9f507200147fed76004d0
size 32316174
