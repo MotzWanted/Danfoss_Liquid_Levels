version https://git-lfs.github.com/spec/v1
oid sha256:9d990071124ea3e6c704fad67c5a512eda4066d3633d463c4de04a8ce9b45eee
size 14941132
